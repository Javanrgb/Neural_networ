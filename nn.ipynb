{
 "cells": [
  {
   "cell_type": "code",
   "execution_count": 2,
   "id": "b2675a17",
   "metadata": {},
   "outputs": [],
   "source": [
    "from keras.models import Sequential\n",
    "from keras.layers import Dense,Flatten,Conv2D,MaxPooling2D"
   ]
  },
  {
   "cell_type": "raw",
   "id": "51348067",
   "metadata": {},
   "source": [
    "\n"
   ]
  },
  {
   "cell_type": "code",
   "execution_count": 19,
   "id": "62547ad2",
   "metadata": {},
   "outputs": [],
   "source": [
    "classifier=Sequential()\n",
    "classifier.add(Conv2D(32,(3,3),input_shape=(250,250,3),activation='relu'))\n",
    "classifier.add(Conv2D(32,(3,3),activation='relu'))\n",
    "classifier.add(MaxPooling2D(pool_size=(2,2)))"
   ]
  },
  {
   "cell_type": "code",
   "execution_count": 20,
   "id": "6aa30dea",
   "metadata": {},
   "outputs": [],
   "source": [
    "classifier.add(Flatten())\n",
    "classifier.add(Dense(units=128,activation='relu'))\n",
    "classifier.add(Dense(units=1,activation='sigmoid'))"
   ]
  },
  {
   "cell_type": "code",
   "execution_count": 21,
   "id": "b16db9c3",
   "metadata": {},
   "outputs": [],
   "source": [
    "classifier.compile(optimizer='adam',loss='binary_crossentropy',metrics=['accuracy'])"
   ]
  },
  {
   "cell_type": "code",
   "execution_count": 22,
   "id": "1b1270d5",
   "metadata": {},
   "outputs": [],
   "source": [
    "from keras.preprocessing.image import ImageDataGenerator"
   ]
  },
  {
   "cell_type": "code",
   "execution_count": 26,
   "id": "b6a3b055",
   "metadata": {},
   "outputs": [],
   "source": [
    "train_datagen = ImageDataGenerator(rescale = 1./255,\n",
    "                                   shear_range = 0.2,\n",
    "                                   zoom_range=0.2,\n",
    "                                   horizontal_flip=True\n",
    "                                  )"
   ]
  },
  {
   "cell_type": "code",
   "execution_count": 27,
   "id": "1e6a8fdc",
   "metadata": {},
   "outputs": [
    {
     "name": "stdout",
     "output_type": "stream",
     "text": [
      "Found 8204 images belonging to 1680 classes.\n"
     ]
    }
   ],
   "source": [
    "train_set =train_datagen.flow_from_directory('C:/Users/hp/Desktop/machine_learning_datasets/faces',\n",
    "                                            target_size=(250,250),\n",
    "                                            batch_size=32,\n",
    "                                            class_mode = 'binary')"
   ]
  },
  {
   "cell_type": "code",
   "execution_count": 28,
   "id": "56c63436",
   "metadata": {},
   "outputs": [
    {
     "name": "stdout",
     "output_type": "stream",
     "text": [
      "Found 8204 images belonging to 1680 classes.\n"
     ]
    }
   ],
   "source": [
    "test_datagen = ImageDataGenerator(rescale = 1./255)\n",
    "test_set =train_datagen.flow_from_directory('C:/Users/hp/Desktop/machine_learning_datasets/faces',\n",
    "                                            target_size=(250,250),\n",
    "                                            batch_size=32,\n",
    "                                            class_mode = 'binary')"
   ]
  },
  {
   "cell_type": "code",
   "execution_count": 29,
   "id": "352b3714",
   "metadata": {},
   "outputs": [
    {
     "name": "stdout",
     "output_type": "stream",
     "text": [
      "Epoch 1/5\n",
      "40/40 [==============================] - 311s 8s/step - loss: -163716784.0000 - accuracy: 0.0000e+00 - val_loss: -920314496.0000 - val_accuracy: 0.0000e+00\n",
      "Epoch 2/5\n",
      "40/40 [==============================] - 268s 7s/step - loss: -7647122432.0000 - accuracy: 7.8125e-04 - val_loss: -23379415040.0000 - val_accuracy: 0.0000e+00\n",
      "Epoch 3/5\n",
      "40/40 [==============================] - 263s 7s/step - loss: -76733259776.0000 - accuracy: 0.0000e+00 - val_loss: -171715018752.0000 - val_accuracy: 0.0000e+00\n",
      "Epoch 4/5\n",
      "40/40 [==============================] - 265s 7s/step - loss: -379012317184.0000 - accuracy: 7.8125e-04 - val_loss: -707580592128.0000 - val_accuracy: 0.0000e+00\n",
      "Epoch 5/5\n",
      "40/40 [==============================] - 261s 7s/step - loss: -1300742799360.0000 - accuracy: 0.0000e+00 - val_loss: -2092431310848.0000 - val_accuracy: 7.8125e-04\n"
     ]
    },
    {
     "data": {
      "text/plain": [
       "<keras.callbacks.History at 0x188d8a2d190>"
      ]
     },
     "execution_count": 29,
     "metadata": {},
     "output_type": "execute_result"
    }
   ],
   "source": [
    "classifier.fit(train_set,\n",
    "              steps_per_epoch =40,\n",
    "              epochs=5,\n",
    "              validation_data=test_set,\n",
    "              validation_steps=40)"
   ]
  },
  {
   "cell_type": "code",
   "execution_count": null,
   "id": "b2bb0691",
   "metadata": {},
   "outputs": [],
   "source": []
  }
 ],
 "metadata": {
  "kernelspec": {
   "display_name": "Python 3 (ipykernel)",
   "language": "python",
   "name": "python3"
  },
  "language_info": {
   "codemirror_mode": {
    "name": "ipython",
    "version": 3
   },
   "file_extension": ".py",
   "mimetype": "text/x-python",
   "name": "python",
   "nbconvert_exporter": "python",
   "pygments_lexer": "ipython3",
   "version": "3.8.8"
  }
 },
 "nbformat": 4,
 "nbformat_minor": 5
}
